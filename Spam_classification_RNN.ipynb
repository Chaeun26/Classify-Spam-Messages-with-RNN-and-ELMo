{
  "cells": [
    {
      "cell_type": "code",
      "execution_count": 1,
      "metadata": {
        "id": "FndxuGZl9rRR"
      },
      "outputs": [],
      "source": [
        "import numpy as np\n",
        "import pandas as pd\n",
        "%matplotlib inline\n",
        "import matplotlib.pyplot as plt\n",
        "import urllib.request\n",
        "from tensorflow.keras.preprocessing.text import Tokenizer\n",
        "from tensorflow.keras.preprocessing.sequence import pad_sequences\n",
        "\n",
        "from tensorflow.keras.layers import SimpleRNN, Embedding, Dense\n",
        "from tensorflow.keras.models import Sequential\n",
        "import tensorflow as tf"
      ]
    },
    {
      "cell_type": "code",
      "execution_count": 2,
      "metadata": {
        "id": "WaU6dsB195cJ"
      },
      "outputs": [],
      "source": [
        "# load dataset\n",
        "urllib.request.urlretrieve(\"https://raw.githubusercontent.com/ukairia777/tensorflow-nlp-tutorial/main/10.%20RNN%20Text%20Classification/dataset/spam.csv\", filename=\"spam.csv\")\n",
        "data = pd.read_csv('spam.csv', encoding='latin1')"
      ]
    },
    {
      "cell_type": "code",
      "execution_count": 3,
      "metadata": {
        "id": "zUwsDsn6-HAw"
      },
      "outputs": [],
      "source": [
        "# bring first two columns (spam/ham and text)\n",
        "data = data[data.columns[:2]]\n",
        "data.columns = ['category', 'text']"
      ]
    },
    {
      "cell_type": "code",
      "execution_count": 4,
      "metadata": {
        "id": "FklUXine-Qs1"
      },
      "outputs": [],
      "source": [
        "# remove the duplicated data\n",
        "data.drop_duplicates(subset=['text'], inplace=True) "
      ]
    },
    {
      "cell_type": "code",
      "execution_count": 5,
      "metadata": {
        "colab": {
          "base_uri": "https://localhost:8080/",
          "height": 206
        },
        "id": "PpSkRzXZ-U3D",
        "outputId": "62e4a408-6d7e-4c8c-8015-1e62b1a3dfb7"
      },
      "outputs": [
        {
          "data": {
            "text/html": [
              "\n",
              "  <div id=\"df-c3655c93-2bc0-49b5-b639-7f1ed6db46f4\">\n",
              "    <div class=\"colab-df-container\">\n",
              "      <div>\n",
              "<style scoped>\n",
              "    .dataframe tbody tr th:only-of-type {\n",
              "        vertical-align: middle;\n",
              "    }\n",
              "\n",
              "    .dataframe tbody tr th {\n",
              "        vertical-align: top;\n",
              "    }\n",
              "\n",
              "    .dataframe thead th {\n",
              "        text-align: right;\n",
              "    }\n",
              "</style>\n",
              "<table border=\"1\" class=\"dataframe\">\n",
              "  <thead>\n",
              "    <tr style=\"text-align: right;\">\n",
              "      <th></th>\n",
              "      <th>category</th>\n",
              "      <th>text</th>\n",
              "    </tr>\n",
              "  </thead>\n",
              "  <tbody>\n",
              "    <tr>\n",
              "      <th>0</th>\n",
              "      <td>ham</td>\n",
              "      <td>Go until jurong point, crazy.. Available only ...</td>\n",
              "    </tr>\n",
              "    <tr>\n",
              "      <th>1</th>\n",
              "      <td>ham</td>\n",
              "      <td>Ok lar... Joking wif u oni...</td>\n",
              "    </tr>\n",
              "    <tr>\n",
              "      <th>2</th>\n",
              "      <td>spam</td>\n",
              "      <td>Free entry in 2 a wkly comp to win FA Cup fina...</td>\n",
              "    </tr>\n",
              "    <tr>\n",
              "      <th>3</th>\n",
              "      <td>ham</td>\n",
              "      <td>U dun say so early hor... U c already then say...</td>\n",
              "    </tr>\n",
              "    <tr>\n",
              "      <th>4</th>\n",
              "      <td>ham</td>\n",
              "      <td>Nah I don't think he goes to usf, he lives aro...</td>\n",
              "    </tr>\n",
              "  </tbody>\n",
              "</table>\n",
              "</div>\n",
              "      <button class=\"colab-df-convert\" onclick=\"convertToInteractive('df-c3655c93-2bc0-49b5-b639-7f1ed6db46f4')\"\n",
              "              title=\"Convert this dataframe to an interactive table.\"\n",
              "              style=\"display:none;\">\n",
              "        \n",
              "  <svg xmlns=\"http://www.w3.org/2000/svg\" height=\"24px\"viewBox=\"0 0 24 24\"\n",
              "       width=\"24px\">\n",
              "    <path d=\"M0 0h24v24H0V0z\" fill=\"none\"/>\n",
              "    <path d=\"M18.56 5.44l.94 2.06.94-2.06 2.06-.94-2.06-.94-.94-2.06-.94 2.06-2.06.94zm-11 1L8.5 8.5l.94-2.06 2.06-.94-2.06-.94L8.5 2.5l-.94 2.06-2.06.94zm10 10l.94 2.06.94-2.06 2.06-.94-2.06-.94-.94-2.06-.94 2.06-2.06.94z\"/><path d=\"M17.41 7.96l-1.37-1.37c-.4-.4-.92-.59-1.43-.59-.52 0-1.04.2-1.43.59L10.3 9.45l-7.72 7.72c-.78.78-.78 2.05 0 2.83L4 21.41c.39.39.9.59 1.41.59.51 0 1.02-.2 1.41-.59l7.78-7.78 2.81-2.81c.8-.78.8-2.07 0-2.86zM5.41 20L4 18.59l7.72-7.72 1.47 1.35L5.41 20z\"/>\n",
              "  </svg>\n",
              "      </button>\n",
              "      \n",
              "  <style>\n",
              "    .colab-df-container {\n",
              "      display:flex;\n",
              "      flex-wrap:wrap;\n",
              "      gap: 12px;\n",
              "    }\n",
              "\n",
              "    .colab-df-convert {\n",
              "      background-color: #E8F0FE;\n",
              "      border: none;\n",
              "      border-radius: 50%;\n",
              "      cursor: pointer;\n",
              "      display: none;\n",
              "      fill: #1967D2;\n",
              "      height: 32px;\n",
              "      padding: 0 0 0 0;\n",
              "      width: 32px;\n",
              "    }\n",
              "\n",
              "    .colab-df-convert:hover {\n",
              "      background-color: #E2EBFA;\n",
              "      box-shadow: 0px 1px 2px rgba(60, 64, 67, 0.3), 0px 1px 3px 1px rgba(60, 64, 67, 0.15);\n",
              "      fill: #174EA6;\n",
              "    }\n",
              "\n",
              "    [theme=dark] .colab-df-convert {\n",
              "      background-color: #3B4455;\n",
              "      fill: #D2E3FC;\n",
              "    }\n",
              "\n",
              "    [theme=dark] .colab-df-convert:hover {\n",
              "      background-color: #434B5C;\n",
              "      box-shadow: 0px 1px 3px 1px rgba(0, 0, 0, 0.15);\n",
              "      filter: drop-shadow(0px 1px 2px rgba(0, 0, 0, 0.3));\n",
              "      fill: #FFFFFF;\n",
              "    }\n",
              "  </style>\n",
              "\n",
              "      <script>\n",
              "        const buttonEl =\n",
              "          document.querySelector('#df-c3655c93-2bc0-49b5-b639-7f1ed6db46f4 button.colab-df-convert');\n",
              "        buttonEl.style.display =\n",
              "          google.colab.kernel.accessAllowed ? 'block' : 'none';\n",
              "\n",
              "        async function convertToInteractive(key) {\n",
              "          const element = document.querySelector('#df-c3655c93-2bc0-49b5-b639-7f1ed6db46f4');\n",
              "          const dataTable =\n",
              "            await google.colab.kernel.invokeFunction('convertToInteractive',\n",
              "                                                     [key], {});\n",
              "          if (!dataTable) return;\n",
              "\n",
              "          const docLinkHtml = 'Like what you see? Visit the ' +\n",
              "            '<a target=\"_blank\" href=https://colab.research.google.com/notebooks/data_table.ipynb>data table notebook</a>'\n",
              "            + ' to learn more about interactive tables.';\n",
              "          element.innerHTML = '';\n",
              "          dataTable['output_type'] = 'display_data';\n",
              "          await google.colab.output.renderOutput(dataTable, element);\n",
              "          const docLink = document.createElement('div');\n",
              "          docLink.innerHTML = docLinkHtml;\n",
              "          element.appendChild(docLink);\n",
              "        }\n",
              "      </script>\n",
              "    </div>\n",
              "  </div>\n",
              "  "
            ],
            "text/plain": [
              "  category                                               text\n",
              "0      ham  Go until jurong point, crazy.. Available only ...\n",
              "1      ham                      Ok lar... Joking wif u oni...\n",
              "2     spam  Free entry in 2 a wkly comp to win FA Cup fina...\n",
              "3      ham  U dun say so early hor... U c already then say...\n",
              "4      ham  Nah I don't think he goes to usf, he lives aro..."
            ]
          },
          "execution_count": 5,
          "metadata": {},
          "output_type": "execute_result"
        }
      ],
      "source": [
        "data.head()"
      ]
    },
    {
      "cell_type": "code",
      "execution_count": 6,
      "metadata": {
        "id": "B5o0-I5m-jLB"
      },
      "outputs": [],
      "source": [
        "# set ham to 0 and spam to 1 - for classification\n",
        "data['category'] = data['category'].replace(['ham','spam'],[0,1])"
      ]
    },
    {
      "cell_type": "code",
      "execution_count": 7,
      "metadata": {
        "id": "7nWwCaSy-u0N"
      },
      "outputs": [],
      "source": [
        "X_data = data['text']\n",
        "y_data = data['category']"
      ]
    },
    {
      "cell_type": "code",
      "execution_count": 8,
      "metadata": {
        "id": "b7Bn1Lz3-zs6"
      },
      "outputs": [],
      "source": [
        "# tokenize before training with RNN\n",
        "tokenizer = Tokenizer()\n",
        "tokenizer.fit_on_texts(X_data)\n",
        "sequences = tokenizer.texts_to_sequences(X_data)\n",
        "\n",
        "word_to_index = tokenizer.word_index\n",
        "\n",
        "voca_size = len(word_to_index) + 1"
      ]
    },
    {
      "cell_type": "code",
      "execution_count": 9,
      "metadata": {
        "id": "tkhywkh8_KQ2"
      },
      "outputs": [],
      "source": [
        "# separate dataset into two - train : test = 8 : 2\n",
        "num_of_train = int(len(sequences) * 0.8)\n",
        "num_of_test = int(len(sequences) - num_of_train)"
      ]
    },
    {
      "cell_type": "code",
      "execution_count": 10,
      "metadata": {
        "id": "bbRGKeay_Q8b"
      },
      "outputs": [],
      "source": [
        "# padding data (with the maximum length of the text(message))\n",
        "X_data = sequences\n",
        "\n",
        "max_len = 189\n",
        "data = pad_sequences(X_data, maxlen = max_len)"
      ]
    },
    {
      "cell_type": "code",
      "execution_count": 11,
      "metadata": {
        "id": "yOuf-f5N_faq"
      },
      "outputs": [],
      "source": [
        "X_test = data[num_of_test:] \n",
        "y_test = np.array(y_data[num_of_test:]) \n",
        "X_train = data[:num_of_train] \n",
        "y_train = np.array(y_data[:num_of_train])"
      ]
    },
    {
      "cell_type": "code",
      "execution_count": 21,
      "metadata": {
        "id": "DC8uPovu_k1x"
      },
      "outputs": [],
      "source": [
        "model = Sequential()\n",
        "model.add(Embedding(voca_size, 256))\n",
        "model.add(SimpleRNN(256, activation = 'relu')) # training with 256 hidden layers & activation function is relu (same as ELMo's)\n",
        "# modified version\n",
        "# model.add(SimpleRNN(256, activation = 'relu', kernel_regularizer='l2')) # including regularization\n",
        "model.add(Dense(1, activation='sigmoid'))\n",
        "model.compile(loss='binary_crossentropy', optimizer='adam',  metrics=['acc']) # 20% data for each epoch is used for testing"
      ]
    },
    {
      "cell_type": "code",
      "execution_count": 22,
      "metadata": {
        "colab": {
          "base_uri": "https://localhost:8080/"
        },
        "id": "jpTt4SVcnAXP",
        "outputId": "4abd7d04-b4b3-43e0-ca0b-37f2bc97060d"
      },
      "outputs": [
        {
          "name": "stdout",
          "output_type": "stream",
          "text": [
            "Epoch 1/10\n",
            "52/52 [==============================] - 25s 466ms/step - loss: 0.3091 - acc: 0.8706 - val_loss: 0.1754 - val_acc: 0.8755\n",
            "Epoch 2/10\n",
            "52/52 [==============================] - 24s 461ms/step - loss: 0.2402 - acc: 0.9389 - val_loss: 0.1250 - val_acc: 0.9577\n",
            "Epoch 3/10\n",
            "52/52 [==============================] - 24s 462ms/step - loss: 2.1900 - acc: 0.9903 - val_loss: 0.1498 - val_acc: 0.9734\n",
            "Epoch 4/10\n",
            "52/52 [==============================] - 24s 460ms/step - loss: 0.0763 - acc: 0.9924 - val_loss: 0.0999 - val_acc: 0.9722\n",
            "Epoch 5/10\n",
            "52/52 [==============================] - 24s 464ms/step - loss: 0.0313 - acc: 0.9930 - val_loss: 0.0837 - val_acc: 0.9722\n",
            "Epoch 6/10\n",
            "52/52 [==============================] - 24s 463ms/step - loss: 0.0079 - acc: 0.9985 - val_loss: 0.0702 - val_acc: 0.9807\n",
            "Epoch 7/10\n",
            "52/52 [==============================] - 24s 467ms/step - loss: 0.0031 - acc: 0.9997 - val_loss: 0.0544 - val_acc: 0.9843\n",
            "Epoch 8/10\n",
            "52/52 [==============================] - 24s 461ms/step - loss: 0.0014 - acc: 1.0000 - val_loss: 0.0555 - val_acc: 0.9855\n",
            "Epoch 9/10\n",
            "52/52 [==============================] - 24s 462ms/step - loss: 7.3566e-04 - acc: 1.0000 - val_loss: 0.0702 - val_acc: 0.9831\n",
            "Epoch 10/10\n",
            "52/52 [==============================] - 24s 461ms/step - loss: 2.8710e-04 - acc: 1.0000 - val_loss: 0.0714 - val_acc: 0.9843\n"
          ]
        }
      ],
      "source": [
        "history = model.fit(X_train, y_train, epochs=10, batch_size=64, validation_split=0.2)"
      ]
    },
    {
      "cell_type": "code",
      "execution_count": 23,
      "metadata": {
        "colab": {
          "base_uri": "https://localhost:8080/"
        },
        "id": "_RgjdFT6_vbr",
        "outputId": "ccec6ce4-e25b-4e33-e506-917e811b7061"
      },
      "outputs": [
        {
          "name": "stdout",
          "output_type": "stream",
          "text": [
            "130/130 [==============================] - 6s 48ms/step - loss: 0.0521 - acc: 0.9944\n",
            "\n",
            "Test_accuracy : 0.9944\n"
          ]
        }
      ],
      "source": [
        "print(\"\\nTest_accuracy : %.4f\" % (model.evaluate(X_test, y_test)[1]))"
      ]
    },
    {
      "cell_type": "code",
      "execution_count": 24,
      "metadata": {
        "colab": {
          "base_uri": "https://localhost:8080/",
          "height": 295
        },
        "id": "jO_XJUGO_6Yz",
        "outputId": "0b748d1e-a410-424f-f581-3cb182da5596"
      },
      "outputs": [
        {
          "data": {
            "image/png": "[encoded data removed]",
            "text/plain": [
              "<Figure size 432x288 with 1 Axes>"
            ]
          },
          "metadata": {
            "needs_background": "light"
          },
          "output_type": "display_data"
        }
      ],
      "source": [
        "# draw a graph\n",
        "epochs = range(1, len(history.history['acc']) + 1)\n",
        "plt.plot(epochs, history.history['loss'])\n",
        "plt.plot(epochs, history.history['val_loss'])\n",
        "plt.title('RNN Model Loss')\n",
        "plt.ylabel('loss')\n",
        "plt.xlabel('epoch')\n",
        "plt.legend(['train', 'val'], loc='upper left')\n",
        "plt.show()"
      ]
    }
  ],
  "metadata": {
    "colab": {
      "collapsed_sections": [],
      "name": "Spam_classification_RNN.ipynb",
      "provenance": []
    },
    "kernelspec": {
      "display_name": "Python 3",
      "name": "python3"
    },
    "language_info": {
      "name": "python"
    }
  },
  "nbformat": 4,
  "nbformat_minor": 0
}
